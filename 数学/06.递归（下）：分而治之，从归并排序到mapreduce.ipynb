{
 "cells": [
  {
   "cell_type": "markdown",
   "metadata": {},
   "source": [
    "### 一、归并排序中的分治思想\n",
    "\n",
    "#### 如何使用递归编程解决数字的排序问题？"
   ]
  },
  {
   "cell_type": "markdown",
   "metadata": {},
   "source": [
    "#### 1.归并排序（merge sort）\n",
    "对于数字排序，有很多优秀的算法，比如归并排序、快速排序、堆排序等，其中，归并排序和快速排序很好的体现列分治思想。  \n",
    "归并排序的核心就是“归并”，也就是把两个有序的数列合并起来，形成一个更大的有序数列。  \n",
    "思路：  \n",
    "\n",
    "+ 假设我们需要从小到大合并两个有序数列A和B。\n",
    "+ 这里我们需要新的存储空间C，用于保存合并后的结果。\n",
    "+ 对比两个数列中的第一个数，小的放入C，并在原数列中删除，依次类推\n",
    "+ 直到A和B有一个的数全部被取出，将另一个数列的数据依次取出放入C中  \n",
    "\n",
    "问题一：  \n",
    "\n",
    "等待排序的数组一开始就是乱的，那归并又有什么意义呢？  \n",
    "还记得递归吗？我们可以利用递归的思想，把问题不断简化，也就是不断简化数列至只剩下1个数，这样就是有序的。\n",
    "\n",
    "问题二：\n",
    "\n",
    "每一次如何简化问题呢？如果把长度为n的数列每次简化为长度n-1的数列，这样效率会很低。\n",
    "所以我们可以在归并排序中引入分而治之的思想。"
   ]
  },
  {
   "cell_type": "markdown",
   "metadata": {},
   "source": [
    "#### 2.分而治之（Divide and Conquer）"
   ]
  },
  {
   "cell_type": "markdown",
   "metadata": {},
   "source": [
    "分而治之，我们通常称为分治。他的思想就是，将一个复杂的问题，分解成两个甚至多个规模相同的类似子问题，然后对这些子问题再进一步细分，直到最后的子问题变得很简单，很容易就被求解出来，这样就求解出了复杂问题\n",
    "\n",
    "归并排序通过分而治之的 思想，把长度为n的数列，每次简化为两个长度为n/2的数列。这更有利于计算机的并行处理，只需要log2n次归并。"
   ]
  },
  {
   "cell_type": "markdown",
   "metadata": {},
   "source": [
    "#### 3.归并排序、分而治之和递归有什么关系呢？\n",
    "#### 归并排序使用列分治的思想，而这个过程需要使用递归来实现\n",
    "分治的过程，就是用同一规则将复杂问题不断拆分并在达到最简单状态时返回的过程，这个过程最直观的实现方式就是递归。"
   ]
  },
  {
   "cell_type": "code",
   "execution_count": null,
   "metadata": {},
   "outputs": [],
   "source": [
    "import java.util.Arrays;\n",
    "\n",
    "public class Lesson6_1 {\n",
    "\t\n",
    "\t/**\n",
    "    * @Description:\t使用函数的递归（嵌套）调用，实现归并排序（从小到大）\n",
    "    * @param to_sort-等待排序的数组\n",
    "    * @return int[]-排序后的数组\n",
    "    */\n",
    "\t\n",
    "\tpublic static int[] merge_sort(int[] to_sort) {\n",
    "\t\t\n",
    "\t\tif (to_sort == null) return new int[0];\n",
    "\t\t\n",
    "\t\t// 如果分解到只剩一个数，返回该数\n",
    "\t\tif (to_sort.length == 1) return to_sort;\n",
    "\t\t\n",
    "\t\t// 将数组分解成左右两半\n",
    "\t\tint mid = to_sort.length / 2;\n",
    "\t\tint[] left = Arrays.copyOfRange(to_sort, 0, mid);\n",
    "\t\tint[] right = Arrays.copyOfRange(to_sort, mid, to_sort.length);\n",
    "\t\t\n",
    "\t\t// 嵌套调用，对两半分别进行排序\n",
    "\t\tleft = merge_sort(left);\n",
    "\t\tright = merge_sort(right);\n",
    "\t\t\n",
    "\t\t// 合并排序后的两半\n",
    "\t\tint[] merged = merge(left, right);\n",
    "\t\t\n",
    "\t\treturn merged;\n",
    "\t\t\n",
    "\t}\n",
    "   \n",
    "\t\n",
    "\t/**\n",
    "    * @Description:\t合并两个已经排序完毕的数组（从小到大）\n",
    "    * @param a-第一个数组，b-第二个数组\n",
    "    * @return int[]-合并后的数组\n",
    "    */\n",
    "    \n",
    "    public static int[] merge(int[] a, int[] b) {\n",
    "    \t\n",
    "    \tif (a == null)  a = new int[0];\n",
    "    \tif (b == null) b = new int[0];\n",
    "    \t\n",
    "    \tint[] merged_one = new int[a.length + b.length];\n",
    "    \t\n",
    "    \tint mi = 0, ai = 0, bi = 0;\n",
    "    \t\n",
    "    \t// 轮流从两个数组中取出较小的值，放入合并后的数组中\n",
    "    \twhile (ai < a.length && bi < b.length) {\n",
    "    \t\t\n",
    "    \t\tif (a[ai] <= b[bi]) {\n",
    "    \t\t\tmerged_one[mi] = a[ai];\n",
    "    \t\t\tai ++;\n",
    "    \t\t} else {\n",
    "    \t\t\tmerged_one[mi] = b[bi];\n",
    "    \t\t\tbi ++;\n",
    "    \t\t}\n",
    "    \t\t\n",
    "    \t\tmi ++;\n",
    "    \t\t\n",
    "    \t}\n",
    "    \t\n",
    "    \t// 将某个数组内剩余的数字放入合并后的数组中\n",
    "    \tif (ai < a.length) {\n",
    "    \t\tfor (int i = ai; i < a.length; i++) {\n",
    "    \t\t\tmerged_one[mi] = a[i];\n",
    "    \t\t\tmi ++;\n",
    "    \t\t}\n",
    "    \t} else {\n",
    "    \t\tfor (int i = bi; i < b.length; i++) {\n",
    "    \t\t\tmerged_one[mi] = b[i];\n",
    "    \t\t\tmi ++;\n",
    "    \t\t}\n",
    "    \t}\n",
    "    \t\n",
    "    \treturn merged_one;\n",
    "    \t\n",
    "    }\n",
    "\n",
    "\tpublic static void main(String[] args) {\n",
    "\t\t\n",
    "\t\tint[] to_sort = {3434, 3356, 67, 12334, 878667, 387};\n",
    "\t\tint[] sorted = Lesson6_1.merge_sort(to_sort);\n",
    "\t\t\n",
    "\t\tfor (int i = 0; i < sorted.length; i++) {\n",
    "\t\t\tSystem.out.println(sorted[i]);\n",
    "\t\t}\n",
    "\t}\n",
    "\n",
    "}"
   ]
  },
  {
   "cell_type": "code",
   "execution_count": null,
   "metadata": {},
   "outputs": [],
   "source": []
  },
  {
   "cell_type": "code",
   "execution_count": null,
   "metadata": {},
   "outputs": [],
   "source": []
  },
  {
   "cell_type": "code",
   "execution_count": null,
   "metadata": {},
   "outputs": [],
   "source": []
  },
  {
   "cell_type": "markdown",
   "metadata": {},
   "source": [
    "### 二、分布式系统中的分治思想\n",
    "#### 分而治之更有趣的应用其实是在分布式系统中"
   ]
  },
  {
   "cell_type": "markdown",
   "metadata": {},
   "source": [
    "当需要排序的数组很大，远超过一台普通机器的内存时，我们需要把这个超级大的数据分解为多个小的数据集，分配到多台机器中并行处理，等所有机器处理完成后，中央服务器再进行结果合并。"
   ]
  },
  {
   "cell_type": "markdown",
   "metadata": {},
   "source": [
    "在单台机器上实现归并排序时，我们只需要在递归函数内实现数据分组及合并就可以了，而多个机器之间分配数据的时候，递归函数除了分组和合并，还要负责把数据分发到某台机器上。"
   ]
  },
  {
   "cell_type": "code",
   "execution_count": null,
   "metadata": {},
   "outputs": [],
   "source": []
  }
 ],
 "metadata": {
  "kernelspec": {
   "display_name": "Python 3",
   "language": "python",
   "name": "python3"
  },
  "language_info": {
   "codemirror_mode": {
    "name": "ipython",
    "version": 3
   },
   "file_extension": ".py",
   "mimetype": "text/x-python",
   "name": "python",
   "nbconvert_exporter": "python",
   "pygments_lexer": "ipython3",
   "version": "3.7.4"
  }
 },
 "nbformat": 4,
 "nbformat_minor": 2
}

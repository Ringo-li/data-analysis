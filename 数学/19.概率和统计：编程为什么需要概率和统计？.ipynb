{
 "cells": [
  {
   "cell_type": "markdown",
   "metadata": {},
   "source": [
    "计算机很傻，对整数的计算有极高的计算效率，所以我们在计算机中最常用的是整数（Integer），整数就不是连续的。有的朋友肯定会说，计算机里还有浮点数（Float）啊，其实浮点数是用两个有限范围的整数来表达一个实数，明显这是覆盖不了全体实数的，如果画在数轴上，浮点数是处处漏风的，其实也不是连续。我们需要离散数学把连续的问题转化成离散的问题来给计算机处理。  \n",
    "在离散数学的学习中，我们认为所有事件都是一分为二的，要么发生，要么不发生，换句话说，事件发生只有必然性，没有随机性，但现实生活中，我们常常会遇到一些模棱两可的情况。  \n",
    "数据结构和基础算法体现的大多数都是离散数学的思想，这些思想更多的是给我们提供一种解决问题的思路，在具体指导我们解决问题时，还需要更多的数学知识。  \n",
    "比如说，在机器学习、数据挖掘等领域，概率统计就发挥着至关重要的作用。"
   ]
  },
  {
   "cell_type": "markdown",
   "metadata": {},
   "source": [
    "### 一、概率和统计里有哪些重要概念？"
   ]
  },
  {
   "cell_type": "markdown",
   "metadata": {},
   "source": [
    "<b>概率（Probability）</b>：描述事件发生可能性。  \n",
    "<b>随机变量（Random Variable）</b>描述事件所有可能出现的状态，并使用<b>概率分布（Probability Distribution）</b>来描述每个状态出现的可能性。随机变量可分为<b>离散型随机变量（Discrete Random Variable）</b>和<b>连续型随机变量（Continuous Random Variable）</b>。  "
   ]
  },
  {
   "cell_type": "markdown",
   "metadata": {},
   "source": [
    "P(x)表示构成变量x的概率分布。  \n",
    "P(x,y)表示由x和y两个变量联合起来才能决定的概率分布，我们称为<b>联合概率分布（Joint Probability）</b>。  \n",
    "对于离散型随机变量，通过联合概率P(x,y)在y上求和，就可以得到P(x)，这个P(x)就是<b>边缘概率(Marginal Probability)</b>。  \n",
    "对于连续型随机变量，通过联合概率P(x,y)在y上的积分，可以得到边缘概率P(x)。  \n",
    "#### 边缘概率有什么用？\n",
    "有时情况很复杂，而我们只需要研究单个事件对概率分布对影响就可以来。边缘概率可以帮助我们去除那些不需要关心的事件，把联合概率转换为非联合概率，例如从P(x,y)得到P(x)从而忽略y事件。"
   ]
  },
  {
   "cell_type": "markdown",
   "metadata": {},
   "source": [
    "<b>条件概率</b>:就是某个事件受其他事件影响后出现的概率。"
   ]
  },
  {
   "cell_type": "markdown",
   "metadata": {},
   "source": [
    "<b>概率论研究的就是这些概率之间相互转化的关系</b>，比如联合概率 、条件概率和边缘概率。通过这些关系，概率论中产生来著名的贝叶斯定理。加上变量的独立性，我们就可以构建朴素贝叶斯（Naive Bayes）分类算法。"
   ]
  },
  {
   "cell_type": "markdown",
   "metadata": {},
   "source": [
    "<b>基于概率发展而来的信息论</b>，提出来很多重要的概念：例如信息熵(Entropy)、香农熵(Shanon Entopy)、信息增益(Information Gain)、基尼指数(Gini)等，这些概念都被运用到了决策树(Decision Tree)算法中。"
   ]
  },
  {
   "cell_type": "markdown",
   "metadata": {},
   "source": [
    "一个例子：  \n",
    "100篇新闻中，有60篇娱乐新闻，20篇科技新闻，20篇体育新闻，  \n",
    "那我们看到科技新闻的概率是多少？  \n",
    "如果这100篇中有30篇国际新闻，30篇中有5篇科技新闻，那么国际科技新闻的联合概率是多少？  \n",
    "如果这100篇中有30篇国际新闻，30篇中有5篇科技新闻，那国际新闻中出现科技新闻的概率是多少？科技新闻中出现国际新闻的概率又是多少？  "
   ]
  },
  {
   "cell_type": "markdown",
   "metadata": {},
   "source": [
    "答案：  \n",
    "1.我们看到科技新闻的概率20%  \n",
    "2.国际科技新闻的联合概率5%  \n",
    "3.那国际新闻中出现科技新闻的概率5/30，科技新闻中出现国际新闻的概率5/20"
   ]
  },
  {
   "cell_type": "markdown",
   "metadata": {},
   "source": [
    "#### 概率和统计其实是互逆的。"
   ]
  },
  {
   "cell_type": "markdown",
   "metadata": {},
   "source": [
    "概率论是对数据产生的过程进行建模，然后研究某种模型所产生的数据有什么特性。而统计学正好相反，它需要通过已知的数据，来推导产生这些数据的模型是怎样的。因此统计特别关注数据的各种分布、统计值及其对应的统计意义。"
   ]
  },
  {
   "cell_type": "markdown",
   "metadata": {},
   "source": [
    "在真实世界里，我们通常只能观测到一些数据，而无法事先知道，是什么模型产生里这些数据，这时候就要依赖统计学。"
   ]
  },
  {
   "cell_type": "markdown",
   "metadata": {},
   "source": [
    "### 二、概率和统计可以帮我们做什么？"
   ]
  },
  {
   "cell_type": "code",
   "execution_count": null,
   "metadata": {},
   "outputs": [],
   "source": []
  }
 ],
 "metadata": {
  "kernelspec": {
   "display_name": "Python 3",
   "language": "python",
   "name": "python3"
  },
  "language_info": {
   "codemirror_mode": {
    "name": "ipython",
    "version": 3
   },
   "file_extension": ".py",
   "mimetype": "text/x-python",
   "name": "python",
   "nbconvert_exporter": "python",
   "pygments_lexer": "ipython3",
   "version": "3.7.4"
  }
 },
 "nbformat": 4,
 "nbformat_minor": 2
}

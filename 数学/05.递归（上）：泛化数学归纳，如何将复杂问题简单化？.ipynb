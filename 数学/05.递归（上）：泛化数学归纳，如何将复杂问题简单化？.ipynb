{
 "cells": [
  {
   "cell_type": "markdown",
   "metadata": {},
   "source": [
    "### 一、既然可以迭代，为什么还要用递归？"
   ]
  },
  {
   "cell_type": "markdown",
   "metadata": {},
   "source": [
    "既然递归的函数返回过程和基于循环的迭代法一致，我们直接用迭代法不就好了，为什么还要用递归的数学思想和编程方法呢？  \n",
    "这是因为，在某些场景下，递归的解法比基于循环的迭代法更容易实现。"
   ]
  },
  {
   "cell_type": "markdown",
   "metadata": {},
   "source": [
    "### 二、如何在限定总和的情况下，求所有可能的加和方式？"
   ]
  },
  {
   "cell_type": "markdown",
   "metadata": {},
   "source": [
    "例如：1元、2元、5元、10元给够10元，有多少中组合方式？"
   ]
  },
  {
   "cell_type": "markdown",
   "metadata": {},
   "source": [
    "### 三、如何把复杂的问题简单化？"
   ]
  },
  {
   "cell_type": "markdown",
   "metadata": {},
   "source": [
    "首先，如何将数学归纳法的思想泛化成更一般的情况？  \n",
    "数学归纳法考虑两种情况：  \n",
    "+ n=1时命题成立\n",
    "+ 如果n=k-1时命题成立，那么只用证明n=k时命题也成立，其中k为大于1的自然数。  \n",
    "\n",
    "将上述两点顺序更换，再抽象化，就有了这样的递推关系：  \n",
    "+ 假设n=k-1的时候，问题已经解决（或者已经找到解），那么只用求解n=k时，问题如何解决（或者解是多少）？  \n",
    "+ 初始状态，就是n=1时，问题如何解决（或者解是多少）。"
   ]
  },
  {
   "cell_type": "markdown",
   "metadata": {},
   "source": [
    "#### 这种思想，就是将复杂的问题，每次都解决一点点，并将剩下的任务转化为更简单的问题等待下次求解，如此反复，直到最简单的形式。  \n",
    "- 假设n=k-1的时候，我们已经知道如何求所有奖赏的组合，那么只要求解n=k的时候，会有哪些金额的选择，以及每种选择后还剩下多少奖金需要支付就可以了。\n",
    "- 初始状态，就是n=1的时候，会有多少种奖赏。"
   ]
  },
  {
   "cell_type": "code",
   "execution_count": null,
   "metadata": {},
   "outputs": [],
   "source": [
    "import java.util.ArrayList;\n",
    "\n",
    "public class Lesson5_1 {\n",
    "\t\n",
    "\tpublic static long[] rewards = {1, 2, 5, 10};\t// 四种面额的纸币\n",
    "\t\n",
    "\t/**\n",
    "    * @Description:\t使用函数的递归（嵌套）调用，找出所有可能的奖赏组合\n",
    "    * @param totalReward-奖赏总金额，result-保存当前的解\n",
    "    * @return void\n",
    "    */\n",
    "\t\n",
    "    public static void get(long totalReward, ArrayList<Long> result) {\n",
    "    \t\n",
    "    \t// 当totalReward = 0时，证明它是满足条件的解，结束嵌套调用，输出解\n",
    "    \tif (totalReward == 0) {\n",
    "    \t\tSystem.out.println(result);\n",
    "    \t\treturn;\n",
    "    \t}\n",
    "    \t// 当totalReward < 0时，证明它不是满足条件的解，不输出\n",
    "    \telse if (totalReward < 0) {\n",
    "    \t\treturn;\n",
    "    \t} else {\n",
    "    \t\tfor (int i = 0; i < rewards.length; i++) {\n",
    "    \t\t\tArrayList<Long> newResult = (ArrayList<Long>)(result.clone());\t// 由于有4种情况，需要clone当前的解并传入被调用的函数\n",
    "    \t\t\tnewResult.add(rewards[i]);\t\t\t\t\t\t// 记录当前的选择，解决一点问题\n",
    "    \t\t\tget(totalReward - rewards[i], newResult);\t\t// 剩下的问题，留给嵌套调用去解决\n",
    "    \t\t}\n",
    "    \t}\n",
    "    \t\n",
    "    }\n",
    "\n",
    "\tpublic static void main(String[] args) {\n",
    "\t\t\n",
    "\t\tint totalReward = 10;\n",
    "\t\tLesson5_1.get(totalReward, new ArrayList<Long>());\n",
    "\t\t\n",
    "\t}\n",
    "\n",
    "}"
   ]
  },
  {
   "cell_type": "code",
   "execution_count": 7,
   "metadata": {},
   "outputs": [
    {
     "ename": "NameError",
     "evalue": "name 'rewards' is not defined",
     "output_type": "error",
     "traceback": [
      "\u001b[1;31m---------------------------------------------------------------------------\u001b[0m",
      "\u001b[1;31mNameError\u001b[0m                                 Traceback (most recent call last)",
      "\u001b[1;32m<ipython-input-7-c5b4757fae5c>\u001b[0m in \u001b[0;36m<module>\u001b[1;34m\u001b[0m\n\u001b[0;32m     29\u001b[0m     \u001b[0mresult\u001b[0m \u001b[1;33m=\u001b[0m \u001b[1;33m[\u001b[0m\u001b[1;33m]\u001b[0m\u001b[1;33m\u001b[0m\u001b[1;33m\u001b[0m\u001b[0m\n\u001b[0;32m     30\u001b[0m     \u001b[0mres\u001b[0m \u001b[1;33m=\u001b[0m \u001b[0mLesson5_1\u001b[0m\u001b[1;33m(\u001b[0m\u001b[1;33m)\u001b[0m\u001b[1;33m\u001b[0m\u001b[1;33m\u001b[0m\u001b[0m\n\u001b[1;32m---> 31\u001b[1;33m     \u001b[0mprint\u001b[0m\u001b[1;33m(\u001b[0m\u001b[0mres\u001b[0m\u001b[1;33m.\u001b[0m\u001b[0mget\u001b[0m\u001b[1;33m(\u001b[0m\u001b[0mtotalReward\u001b[0m\u001b[1;33m,\u001b[0m \u001b[0mresult\u001b[0m\u001b[1;33m)\u001b[0m\u001b[1;33m)\u001b[0m\u001b[1;33m\u001b[0m\u001b[1;33m\u001b[0m\u001b[0m\n\u001b[0m",
      "\u001b[1;32m<ipython-input-7-c5b4757fae5c>\u001b[0m in \u001b[0;36mget\u001b[1;34m(self, totalReward, result)\u001b[0m\n\u001b[0;32m     21\u001b[0m                 \u001b[0mnewResult\u001b[0m \u001b[1;33m=\u001b[0m \u001b[0mresult\u001b[0m\u001b[1;33m.\u001b[0m\u001b[0mcopy\u001b[0m\u001b[1;33m(\u001b[0m\u001b[1;33m)\u001b[0m\u001b[1;33m\u001b[0m\u001b[1;33m\u001b[0m\u001b[0m\n\u001b[0;32m     22\u001b[0m                 \u001b[1;31m#记录当前的选择，解决一点问题\u001b[0m\u001b[1;33m\u001b[0m\u001b[1;33m\u001b[0m\u001b[1;33m\u001b[0m\u001b[0m\n\u001b[1;32m---> 23\u001b[1;33m                 \u001b[0mnewResult\u001b[0m\u001b[1;33m.\u001b[0m\u001b[0mappend\u001b[0m\u001b[1;33m(\u001b[0m\u001b[0mrewards\u001b[0m\u001b[1;33m[\u001b[0m\u001b[0mi\u001b[0m\u001b[1;33m]\u001b[0m\u001b[1;33m)\u001b[0m\u001b[1;33m\u001b[0m\u001b[1;33m\u001b[0m\u001b[0m\n\u001b[0m\u001b[0;32m     24\u001b[0m                 \u001b[1;31m#剩下的问题，留给嵌套调用去解决\u001b[0m\u001b[1;33m\u001b[0m\u001b[1;33m\u001b[0m\u001b[1;33m\u001b[0m\u001b[0m\n\u001b[0;32m     25\u001b[0m                 \u001b[0mself\u001b[0m\u001b[1;33m.\u001b[0m\u001b[0mget\u001b[0m\u001b[1;33m(\u001b[0m\u001b[0mtotalReward\u001b[0m \u001b[1;33m-\u001b[0m \u001b[0mrewards\u001b[0m\u001b[1;33m[\u001b[0m\u001b[0mi\u001b[0m\u001b[1;33m]\u001b[0m\u001b[1;33m,\u001b[0m \u001b[0mnewResult\u001b[0m\u001b[1;33m)\u001b[0m\u001b[1;33m\u001b[0m\u001b[1;33m\u001b[0m\u001b[0m\n",
      "\u001b[1;31mNameError\u001b[0m: name 'rewards' is not defined"
     ]
    }
   ],
   "source": [
    "class Lesson5_1:\n",
    "    \"\"\"\n",
    "    @Description:使用函数的递归（嵌套）调用，找出所有可能的奖赏组合\n",
    "    @param totalReward-奖赏总金额，result-保存当前的解\n",
    "    @return void\n",
    "    \"\"\"\n",
    "\n",
    "    rewards = [1, 2, 5, 10]#四种面额的纸币\n",
    "    \n",
    "    def get(self, totalReward, result):\n",
    "        #当totalReward = 0时，证明它是满足条件的解，结束嵌套调用，输出解\n",
    "        if (totalReward == 0):\n",
    "            print(result)\n",
    "            return\n",
    "        #当totalReward < 0时，证明它不是满足条件的解，不输出\n",
    "        elif (totalReward < 0):\n",
    "            return\n",
    "        else:\n",
    "            for i in range(len(self.rewards)):\n",
    "                #由于有4种情况，需要clone当前的解并传入被调用的函数\n",
    "                newResult = result.copy()\n",
    "                #记录当前的选择，解决一点问题\n",
    "                newResult.append(rewards[i])\n",
    "                #剩下的问题，留给嵌套调用去解决\n",
    "                self.get(totalReward - rewards[i], newResult)\n",
    "                \n",
    "if __name__ == '__main__':\n",
    "    totalReward = 10\n",
    "    result = []\n",
    "    res = Lesson5_1()\n",
    "    print(res.get(totalReward, result))"
   ]
  },
  {
   "cell_type": "code",
   "execution_count": null,
   "metadata": {},
   "outputs": [],
   "source": []
  }
 ],
 "metadata": {
  "kernelspec": {
   "display_name": "Python 3",
   "language": "python",
   "name": "python3"
  },
  "language_info": {
   "codemirror_mode": {
    "name": "ipython",
    "version": 3
   },
   "file_extension": ".py",
   "mimetype": "text/x-python",
   "name": "python",
   "nbconvert_exporter": "python",
   "pygments_lexer": "ipython3",
   "version": "3.7.4"
  }
 },
 "nbformat": 4,
 "nbformat_minor": 2
}

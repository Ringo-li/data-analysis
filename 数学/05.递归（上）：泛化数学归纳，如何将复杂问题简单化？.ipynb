{
 "cells": [
  {
   "cell_type": "markdown",
   "metadata": {},
   "source": [
    "### 一、既然可以迭代，为什么还要用递归？"
   ]
  },
  {
   "cell_type": "markdown",
   "metadata": {},
   "source": [
    "既然递归的函数返回过程和基于循环的迭代法一致，我们直接用迭代法不就好了，为什么还要用递归的数学思想和编程方法呢？  \n",
    "这是因为，在某些场景下，递归的解法比基于循环的迭代法更容易实现。"
   ]
  },
  {
   "cell_type": "markdown",
   "metadata": {},
   "source": [
    "### 二、如何在限定总和的情况下，求所有可能的加和方式？"
   ]
  },
  {
   "cell_type": "markdown",
   "metadata": {},
   "source": [
    "例如：1元、2元、5元、10元给够10元，有多少中组合方式？"
   ]
  },
  {
   "cell_type": "markdown",
   "metadata": {},
   "source": [
    "### 三、如何把复杂的问题简单化？"
   ]
  },
  {
   "cell_type": "markdown",
   "metadata": {},
   "source": [
    "首先，如何将数学归纳法的思想泛化成更一般的情况？  \n",
    "数学归纳法考虑两种情况：  \n",
    "+ n=1时命题成立\n",
    "+ 如果n=k-1时命题成立，那么只用证明n=k时命题也成立，其中k为大于1的自然数。  \n",
    "\n",
    "将上述两点顺序更换，再抽象化，就有了这样的递推关系：  \n",
    "+ 假设n=k-1的时候，问题已经解决（或者已经找到解），那么只用求解n=k时，问题如何解决（或者解是多少）？  \n",
    "+ 初始状态，就是n=1时，问题如何解决（或者解是多少）。"
   ]
  },
  {
   "cell_type": "markdown",
   "metadata": {},
   "source": [
    "#### 这种思想，就是将复杂的问题，每次都解决一点点，并将剩下的任务转化为更简单的问题等待下次求解，如此反复，直到最简单的形式。  \n",
    "- 假设n=k-1的时候，我们已经知道如何求所有奖赏的组合，那么只要求解n=k的时候，会有哪些金额的选择，以及每种选择后还剩下多少奖金需要支付就可以了。\n",
    "- 初始状态，就是n=1的时候，会有多少种奖赏。"
   ]
  },
  {
   "cell_type": "code",
   "execution_count": 39,
   "metadata": {},
   "outputs": [
    {
     "name": "stdout",
     "output_type": "stream",
     "text": [
      "[1, 1, 1, 1, 1]\n",
      "[1, 1, 1, 2]\n",
      "[1, 1, 2, 1]\n",
      "[1, 2, 1, 1]\n",
      "[1, 2, 2]\n",
      "[2, 1, 1, 1]\n",
      "[2, 1, 2]\n",
      "[2, 2, 1]\n",
      "[5]\n",
      "None\n"
     ]
    }
   ],
   "source": [
    "class Lesson5_1:\n",
    "    \"\"\"\n",
    "    @Description:使用函数的递归（嵌套）调用，找出所有可能的奖赏组合\n",
    "    @param totalReward-奖赏总金额，result-保存当前的解\n",
    "    @return void\n",
    "    \"\"\"\n",
    "\n",
    "    rewards = [1, 2, 5, 10]#四种面额的纸币\n",
    "    \n",
    "    def get(self, totalReward, result):\n",
    "        #当totalReward = 0时，证明它是满足条件的解，结束嵌套调用，输出解\n",
    "        if (totalReward == 0):\n",
    "            print(result)\n",
    "\n",
    "        #当totalReward < 0时，证明它不是满足条件的解，不输出\n",
    "        elif (totalReward < 0):\n",
    "            pass\n",
    "        else:\n",
    "            for i in range(len(self.rewards)):\n",
    "                #由于有4种情况，需要clone当前的解并传入被调用的函数\n",
    "                newResult = result.copy()\n",
    "#                 print('newResult:',newResult)\n",
    "                #记录当前的选择，解决一点问题\n",
    "                newResult.append(self.rewards[i])\n",
    "#                 print('newResult.append',newResult)\n",
    "                #剩下的问题，留给嵌套调用去解决\n",
    "                self.get(totalReward - self.rewards[i], newResult)\n",
    "                \n",
    "if __name__ == '__main__':\n",
    "    totalReward = 5\n",
    "    result = []\n",
    "    res = Lesson5_1()\n",
    "    print(res.get(totalReward, result))"
   ]
  },
  {
   "cell_type": "markdown",
   "metadata": {},
   "source": [
    "#### 例一：求n的阶乘"
   ]
  },
  {
   "cell_type": "markdown",
   "metadata": {},
   "source": [
    "递归的三大要素  \n",
    "第一要素：明确你这个函数想要干什么  \n",
    "第二要素：寻找递归结束条件  \n",
    "第三要素：找出函数的等价关系式"
   ]
  },
  {
   "cell_type": "code",
   "execution_count": 1,
   "metadata": {},
   "outputs": [],
   "source": [
    "def fun(x):\n",
    "    if x == 1:\n",
    "        return 1   \n",
    "    else:\n",
    "        return x*fun(x-1)\n",
    "    "
   ]
  },
  {
   "cell_type": "code",
   "execution_count": 3,
   "metadata": {},
   "outputs": [
    {
     "data": {
      "text/plain": [
       "120"
      ]
     },
     "execution_count": 3,
     "metadata": {},
     "output_type": "execute_result"
    }
   ],
   "source": [
    "fun(5)"
   ]
  },
  {
   "cell_type": "markdown",
   "metadata": {},
   "source": [
    "#### 例二：斐波那契数列\n",
    "斐波那契数列的是这样一个数列：1、1、2、3、5、8、13、21、34....，即第一项 f(1) = 1,第二项 f(2) = 1.....,第 n 项目为 f(n) = f(n-1) + f(n-2)。求第 n 项的值是多少。"
   ]
  },
  {
   "cell_type": "markdown",
   "metadata": {},
   "source": [
    "#### 第一要素：明确你这个函数想要干什么  \n",
    "假设 f(n) 的功能是求第 n 项的值，代码如下："
   ]
  },
  {
   "cell_type": "code",
   "execution_count": 10,
   "metadata": {},
   "outputs": [],
   "source": [
    "def f(n):\n",
    "    pass"
   ]
  },
  {
   "cell_type": "markdown",
   "metadata": {},
   "source": [
    "#### 第二要素：寻找递归结束条件  \n",
    "显然，当 n = 1 或者 n = 2 ,我们可以轻易着知道结果 f(1) = f(2) = 1。所以递归结束条件可以为 n <= 2。代码如下："
   ]
  },
  {
   "cell_type": "code",
   "execution_count": 12,
   "metadata": {},
   "outputs": [],
   "source": [
    "def f(n):\n",
    "    if n <= 2:\n",
    "        return 1\n",
    "    else:\n",
    "        pass"
   ]
  },
  {
   "cell_type": "markdown",
   "metadata": {},
   "source": [
    "#### 第三要素：找出函数的等价关系式\n",
    "题目已经把等价关系式给我们了，所以我们很容易就能够知道 f(n) = f(n-1) + f(n-2)。我说过，等价关系式是最难找的一个，而这个题目却把关系式给我们了，这也太容易，好吧，我这是为了兼顾几乎零基础的读者。\n",
    "\n",
    "所以最终代码如下:"
   ]
  },
  {
   "cell_type": "code",
   "execution_count": 13,
   "metadata": {},
   "outputs": [
    {
     "data": {
      "text/plain": [
       "3"
      ]
     },
     "execution_count": 13,
     "metadata": {},
     "output_type": "execute_result"
    }
   ],
   "source": [
    "def f(n):\n",
    "    if n <= 2:\n",
    "        return 1\n",
    "    else:\n",
    "        res = f(n-2)+f(n-1)\n",
    "        return res\n",
    "f(4)"
   ]
  },
  {
   "cell_type": "markdown",
   "metadata": {},
   "source": [
    "#### 案例2：小青蛙跳台阶\n",
    "一只青蛙一次可以跳上1级台阶，也可以跳上2级。求该青蛙跳上一个n级的台阶总共有多少种跳法。"
   ]
  },
  {
   "cell_type": "markdown",
   "metadata": {},
   "source": [
    "#### 1、第一递归函数功能\n",
    "\n",
    "假设 f(n) 的功能是求青蛙跳上一个n级的台阶总共有多少种跳法，代码如下："
   ]
  },
  {
   "cell_type": "code",
   "execution_count": 14,
   "metadata": {},
   "outputs": [],
   "source": [
    "def f(n):\n",
    "    pass"
   ]
  },
  {
   "cell_type": "markdown",
   "metadata": {},
   "source": [
    "#### 2、找出递归结束的条件\n",
    "\n",
    "我说了，求递归结束的条件，你直接把 n 压缩到很小很小就行了，因为 n 越小，我们就越容易直观着算出 f(n) 的多少，所以当 n = 1时，你知道 f(1) 为多少吧？够直观吧？即 f(1) = 1。代码如下："
   ]
  },
  {
   "cell_type": "code",
   "execution_count": 15,
   "metadata": {},
   "outputs": [],
   "source": [
    "def f(n):\n",
    "    if n == 1:\n",
    "        return 1\n",
    "    else:\n",
    "        pass"
   ]
  },
  {
   "cell_type": "markdown",
   "metadata": {},
   "source": [
    "#### 三要素：找出函数的等价关系式\n",
    "每次跳的时候，小青蛙可以跳一个台阶，也可以跳两个台阶，也就是说，每次跳的时候，小青蛙有两种跳法。  \n",
    "第一种跳法：第一次我跳了一个台阶，那么还剩下n-1个台阶还没跳，剩下的n-1个台阶的跳法有f(n-1)种。  \n",
    "第二种跳法：第一次跳了两个台阶，那么还剩下n-2个台阶还没，剩下的n-2个台阶的跳法有f(n-2)种。  \n",
    "所以，小青蛙的全部跳法就是这两种跳法之和了，即 f(n) = f(n-1) + f(n-2)。至此，等价关系式就求出来了。于是写出代码："
   ]
  },
  {
   "cell_type": "code",
   "execution_count": 30,
   "metadata": {},
   "outputs": [],
   "source": [
    "def f(n):\n",
    "    if n == 1:\n",
    "        return 1\n",
    "    else:\n",
    "        res = f(n-1) + f(n-2)\n",
    "        return res"
   ]
  },
  {
   "cell_type": "markdown",
   "metadata": {},
   "source": [
    "上面的代码对不对？  \n",
    "答是不大对，当 n = 2 时，显然会有 f(2) = f(1) + f(0)。我们知道，f(0) = 0，按道理是递归结束，不用继续往下调用的，但我们上面的代码逻辑中，会继续调用 f(0) = f(-1) + f(-2)。这会导致无限调用，进入死循环。  \n",
    "这也是我要和你们说的，关于递归结束条件是否够严谨问题，有很多人在使用递归的时候，由于结束条件不够严谨，导致出现死循环。也就是说，当我们在第二步找出了一个递归结束条件的时候，可以把结束条件写进代码，然后进行第三步，<b>但是请注意，当我们第三步找出等价函数之后，还得再返回去第二步，根据第三步函数的调用关系，会不会出现一些漏掉的结束条件。</b>就像上面，f(n-2)这个函数的调用，有可能出现 f(0) 的情况，导致死循环，所以我们把它补上。代码如下："
   ]
  },
  {
   "cell_type": "code",
   "execution_count": 34,
   "metadata": {},
   "outputs": [
    {
     "data": {
      "text/plain": [
       "8"
      ]
     },
     "execution_count": 34,
     "metadata": {},
     "output_type": "execute_result"
    }
   ],
   "source": [
    "def f(n):\n",
    "    if n <= 2:\n",
    "        return n\n",
    "    else:\n",
    "        res = f(n-1) + f(n-2)\n",
    "        return res\n",
    "f(5)"
   ]
  },
  {
   "cell_type": "code",
   "execution_count": null,
   "metadata": {},
   "outputs": [],
   "source": []
  }
 ],
 "metadata": {
  "kernelspec": {
   "display_name": "Python 3",
   "language": "python",
   "name": "python3"
  },
  "language_info": {
   "codemirror_mode": {
    "name": "ipython",
    "version": 3
   },
   "file_extension": ".py",
   "mimetype": "text/x-python",
   "name": "python",
   "nbconvert_exporter": "python",
   "pygments_lexer": "ipython3",
   "version": "3.7.4"
  }
 },
 "nbformat": 4,
 "nbformat_minor": 2
}

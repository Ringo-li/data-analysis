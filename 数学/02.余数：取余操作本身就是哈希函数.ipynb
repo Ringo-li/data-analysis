{
 "cells": [
  {
   "cell_type": "markdown",
   "metadata": {},
   "source": [
    "### 一、余数的特性"
   ]
  },
  {
   "cell_type": "markdown",
   "metadata": {},
   "source": [
    "整数是没有边界的，余数却总是在某一个固定范围内。  \n",
    "例如：星期、web分页"
   ]
  },
  {
   "cell_type": "markdown",
   "metadata": {},
   "source": [
    "### 二、同余定理"
   ]
  },
  {
   "cell_type": "markdown",
   "metadata": {},
   "source": [
    "就星期而言，1天后、8天后、15天后对于七天取余的结果都是1，他们有同样的余数，所有被归类到一起，这就是<b>同余定理</b>。简单来说，a、b两个整数，如果他们除以正整数m得到的余数相同，那么a、b对于模m同余。"
   ]
  },
  {
   "cell_type": "markdown",
   "metadata": {},
   "source": [
    "#### 同余定理其实就是用来分类的。"
   ]
  },
  {
   "cell_type": "markdown",
   "metadata": {},
   "source": [
    "### 三：求余过程就是个哈希函数"
   ]
  },
  {
   "cell_type": "markdown",
   "metadata": {},
   "source": [
    "哈希有时候也被翻译为散列。  \n",
    "<b>哈希（Hash）：将任意长度的输入，通过哈希算法，压缩为某一固定长度的输出。</b>是不是和求余的过程一样？  \n",
    "\n",
    "映射、分类、加密等可能都用到余数。  "
   ]
  },
  {
   "cell_type": "code",
   "execution_count": null,
   "metadata": {},
   "outputs": [],
   "source": []
  }
 ],
 "metadata": {
  "kernelspec": {
   "display_name": "Python 3",
   "language": "python",
   "name": "python3"
  },
  "language_info": {
   "codemirror_mode": {
    "name": "ipython",
    "version": 3
   },
   "file_extension": ".py",
   "mimetype": "text/x-python",
   "name": "python",
   "nbconvert_exporter": "python",
   "pygments_lexer": "ipython3",
   "version": "3.7.4"
  }
 },
 "nbformat": 4,
 "nbformat_minor": 2
}

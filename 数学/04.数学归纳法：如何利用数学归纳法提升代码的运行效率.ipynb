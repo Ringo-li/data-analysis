{
 "cells": [
  {
   "cell_type": "markdown",
   "metadata": {},
   "source": [
    "### 一、什么是数学归纳法"
   ]
  },
  {
   "cell_type": "markdown",
   "metadata": {},
   "source": [
    "对于某些迭代问题，我们可以避免一步步推算，而是直接<b>从理论上证明某个结论</b>，这样可以节约大量的计算资源，这就是数学归纳法。"
   ]
  },
  {
   "cell_type": "markdown",
   "metadata": {},
   "source": [
    "数学归纳法的一般步骤："
   ]
  },
  {
   "cell_type": "markdown",
   "metadata": {},
   "source": [
    "- 证明基本情况（通常是n=1时）是否成立；  \n",
    "- 假设n=k-1成立，再证明n=k也是成立的（k为任意大于1的自然数）\n"
   ]
  },
  {
   "cell_type": "markdown",
   "metadata": {},
   "source": [
    "### 二、数学归纳法和迭代法有什么不一样"
   ]
  },
  {
   "cell_type": "markdown",
   "metadata": {},
   "source": [
    "#### 和使用迭代法不同，数学归纳法最大的特点就在于“归纳”二字，它已经总结出了规律，只要我们能证明规律是正确的，就没有必要进行逐步的推算"
   ]
  },
  {
   "cell_type": "markdown",
   "metadata": {},
   "source": [
    "递归把计算交给计算机，归纳把计算交给人，前者是拿计算机的计算成本换人的时间，后者是拿人的时间换计算机的计算成本"
   ]
  },
  {
   "cell_type": "code",
   "execution_count": 63,
   "metadata": {},
   "outputs": [
    {
     "name": "stdout",
     "output_type": "stream",
     "text": [
      "舍罕王给了这么多粒：9223372036854775807\n",
      "耗时0.0毫秒\n",
      "舍罕王给了这么多粒：9223372036854775807\n",
      "耗时0.0毫秒\n"
     ]
    }
   ],
   "source": [
    "import time\n",
    "\n",
    "class Lesson4_1:\n",
    "    \"\"\" \n",
    "    :Description:算算舍罕王给了多少粒麦子\n",
    "    \n",
    "    :param grid-放到第几格\n",
    "    :return long-麦粒的总数\n",
    "    \"\"\"\n",
    "    def getNumberOfWheat(self,grid):\n",
    "        sum = 0#麦粒总数\n",
    "        numberOfWheatInGrid = 1#第一个格子里麦粒的数量\n",
    "        sum += numberOfWheatInGrid\n",
    "        for i in range(1,grid):\n",
    "            numberOfWheatInGrid *= 2#当前格子里麦粒的数量是前一格的2倍\n",
    "            sum += numberOfWheatInGrid#累计麦粒总数\n",
    "        return sum\n",
    "\n",
    "if __name__ == \"__main__\":\n",
    "    grid = 63\n",
    "    start = time.time()\n",
    "    num = Lesson4_1()\n",
    "    print(\"舍罕王给了这么多粒：%d\"%(num.getNumberOfWheat(grid)))\n",
    "    end = time.time()\n",
    "    print(\"耗时%s毫秒\"%(end - start))\n",
    "    print(\"舍罕王给了这么多粒：%d\"%(2 ** grid -1))\n",
    "    end2 = time.time()\n",
    "    print(\"耗时%s毫秒\"%(end2 - end))"
   ]
  },
  {
   "cell_type": "markdown",
   "metadata": {},
   "source": [
    "### 三、递归调用和数学归纳的逻辑是一样的"
   ]
  },
  {
   "cell_type": "markdown",
   "metadata": {},
   "source": [
    "只要数学归纳法的逻辑是对的，递归调用的逻辑就是对的，没有必要纠结递归函数是如何嵌套调研和返回的"
   ]
  },
  {
   "cell_type": "code",
   "execution_count": 78,
   "metadata": {},
   "outputs": [
    {
     "name": "stdout",
     "output_type": "stream",
     "text": [
      "true\n"
     ]
    }
   ],
   "source": [
    "class Lesson4_2:\n",
    "    \"\"\"\n",
    "    @Description:使用函数的递归（嵌套）调用，进行归纳法证明\n",
    "    @param k-放到第几格，self-保存当前格子的麦粒数和麦粒总数\n",
    "    @return boolean-放到第k格时是否成立\n",
    "    \"\"\"\n",
    "    def __init__(self):\n",
    "        self.wheatNum = 0\n",
    "        self.wheatTotalNum = 0\n",
    "    \n",
    "    def prove(self,k): \n",
    "        #证明n = 1时，命题是否成立\n",
    "        if (k == 1):\n",
    "            if ((2 ** 1) - 1) == 1:\n",
    "                self.wheatNum = 1\n",
    "                self.wheatTotalNum = 1\n",
    "                return 'true'\n",
    "            else:\n",
    "                return 'false'\n",
    "        \n",
    "        #如果n = (k-1)时命题成立，证明n = k时命题是否成立\n",
    "        else:\n",
    "            proveOfPreviousOne = self.prove(k - 1)\n",
    "            self.wheatNum *= 2\n",
    "            self.wheatTotalNum += self.wheatNum\n",
    "            proveOfCurrentOne = 'false'\n",
    "            if (self.wheatTotalNum == (2 ** k - 1)):\n",
    "                proveOfCurrentOne = 'true'\n",
    "                \n",
    "            if (proveOfPreviousOne and proveOfCurrentOne):\n",
    "                return 'true'\n",
    "            else:\n",
    "                return 'false'\n",
    "        \n",
    "        \n",
    "if __name__ == '__main__':\n",
    "    grid = 63\n",
    "    pro = Lesson4_2()\n",
    "    print(pro.prove(grid))\n"
   ]
  },
  {
   "cell_type": "code",
   "execution_count": null,
   "metadata": {},
   "outputs": [],
   "source": []
  }
 ],
 "metadata": {
  "kernelspec": {
   "display_name": "Python 3",
   "language": "python",
   "name": "python3"
  },
  "language_info": {
   "codemirror_mode": {
    "name": "ipython",
    "version": 3
   },
   "file_extension": ".py",
   "mimetype": "text/x-python",
   "name": "python",
   "nbconvert_exporter": "python",
   "pygments_lexer": "ipython3",
   "version": "3.7.4"
  }
 },
 "nbformat": 4,
 "nbformat_minor": 2
}

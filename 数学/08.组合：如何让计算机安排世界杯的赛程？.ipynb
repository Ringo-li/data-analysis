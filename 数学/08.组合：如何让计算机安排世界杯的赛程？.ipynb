{
 "cells": [
  {
   "cell_type": "markdown",
   "metadata": {},
   "source": [
    "### 一、什么是组合？"
   ]
  },
  {
   "cell_type": "markdown",
   "metadata": {},
   "source": [
    "<b>组合（Combination）</b>：从n个不同元素中取出m（1<=m<=n）个不同的元素。例如：从世界杯32支球队中的任意2支球队进行比赛，就是从32个元素取出2个元素的组合。\n",
    "\n",
    "<b>全组合（All Combination）</b>：对于所有m取值的组合之全集合。例如对于{1，2，3}而言，全集合就是{{空集},{1},{2},{3},{1,2},{1,3},{2,3},{1,2,3}}。\n",
    "\n",
    "组合可以说是排列的兄弟，两者类似但又有不同，区别在于组合是不考虑每个元素出现的顺序的。\n"
   ]
  },
  {
   "cell_type": "markdown",
   "metadata": {},
   "source": [
    "假设某种运动需要3个人一起比赛，有32人参加，那么32人就要32x31x30种排列，如果3个人只比赛一场，那么我们要抹除多余的比赛。3个人按任意顺序比赛有3x2x1场，所以32个人选出3人的组合是（32x31x30）/（3x2x1）。我们可以扩展成以下两种情况："
   ]
  },
  {
   "cell_type": "markdown",
   "metadata": {},
   "source": [
    "- n个元素取出m个的组合，可能性数量就是n个里取出m个的排列数量，除以m个的全排列的数量，也就是（n!/(n-m)!）/m!。\n",
    "- 对于全组合来说，可能性为2^n种。例如，当n=3的时候，全组合包括里8种情况。"
   ]
  },
  {
   "cell_type": "markdown",
   "metadata": {},
   "source": [
    "### 二、如何让计算机来组合队伍？"
   ]
  },
  {
   "cell_type": "markdown",
   "metadata": {},
   "source": [
    "例子：如何使用递归从3个元素中选取2个元素的组合。"
   ]
  },
  {
   "cell_type": "code",
   "execution_count": 10,
   "metadata": {},
   "outputs": [
    {
     "name": "stdout",
     "output_type": "stream",
     "text": [
      "['t1', 't2']\n",
      "['t1', 't3']\n",
      "['t2', 't3']\n"
     ]
    }
   ],
   "source": [
    "class Lesson8_1:\n",
    "    \"\"\"\n",
    "    @Description:使用函数的递归（嵌套）调用，找出所有可能的队伍组合\n",
    "    @param teams-目前还剩多少队伍没有参与组合，result-保存当前已经组合的队伍\n",
    "    @return result\n",
    "    \"\"\"\n",
    "    \n",
    "    def combine(self, teams, result, m):\n",
    "        #挑选完了m个元素，输出结果n \n",
    "        if len(result) == m:\n",
    "            print(result)\n",
    "            return\n",
    "        \n",
    "        for i in range(len(teams)):\n",
    "                       \n",
    "            #从剩下的队伍中，选择一队，加入结果\n",
    "            newResult = result.copy()\n",
    "            newResult.append(teams[i])\n",
    "                       \n",
    "            #只考虑当前选择之后的所有队伍\n",
    "            rest_teams = teams[i+1:len(teams)]\n",
    "\n",
    "            #递归调用，对于剩余的队伍继续生成组合\n",
    "            self.combine(rest_teams, newResult, m)\n",
    "    \n",
    "if __name__ == \"__main__\":\n",
    "    teams = ['t1','t2','t3']\n",
    "    res = Lesson8_1()\n",
    "    com = res.combine(teams, [], 2)                   "
   ]
  },
  {
   "cell_type": "code",
   "execution_count": null,
   "metadata": {},
   "outputs": [],
   "source": []
  }
 ],
 "metadata": {
  "kernelspec": {
   "display_name": "Python 3",
   "language": "python",
   "name": "python3"
  },
  "language_info": {
   "codemirror_mode": {
    "name": "ipython",
    "version": 3
   },
   "file_extension": ".py",
   "mimetype": "text/x-python",
   "name": "python",
   "nbconvert_exporter": "python",
   "pygments_lexer": "ipython3",
   "version": "3.7.4"
  }
 },
 "nbformat": 4,
 "nbformat_minor": 2
}

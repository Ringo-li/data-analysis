{
 "cells": [
  {
   "cell_type": "markdown",
   "metadata": {},
   "source": [
    "### 一、什么是动态规划？"
   ]
  },
  {
   "cell_type": "markdown",
   "metadata": {},
   "source": [
    "查询推荐（Query Suggestion）的实现过程所使用的数学思想，就是动态规划（Dynamic Programming）。  \n",
    "在递归中，我们可以通过不断分解问题，将复杂的问题简单化为最小问题，不过，我们有时并不是需要处理所有可能情况，只要找到最优解就行了，像这样需要在各种可能的局部解中找到那些可能达到最优的局部解，放弃其他局部解的情况，就是动态规划。"
   ]
  },
  {
   "cell_type": "markdown",
   "metadata": {},
   "source": [
    "动态规划需要通过子问题的最优解，推导出最终问题的最优解，因此特别注重子问题之间的转移关系，我们把这些子问题之间的转移称为<b>状态转移</b>，而用于刻画这些状态转移的表达式称为<b>状态转移方程</b>,找到状态转移方程，就是动态规划的<b>关键</b>。"
   ]
  },
  {
   "cell_type": "code",
   "execution_count": null,
   "metadata": {},
   "outputs": [],
   "source": []
  }
 ],
 "metadata": {
  "kernelspec": {
   "display_name": "Python 3",
   "language": "python",
   "name": "python3"
  },
  "language_info": {
   "codemirror_mode": {
    "name": "ipython",
    "version": 3
   },
   "file_extension": ".py",
   "mimetype": "text/x-python",
   "name": "python",
   "nbconvert_exporter": "python",
   "pygments_lexer": "ipython3",
   "version": "3.7.4"
  }
 },
 "nbformat": 4,
 "nbformat_minor": 2
}

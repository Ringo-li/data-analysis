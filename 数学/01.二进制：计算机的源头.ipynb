{
 "cells": [
  {
   "cell_type": "markdown",
   "metadata": {},
   "source": [
    "### 一、什么是二进制计数法？"
   ]
  },
  {
   "cell_type": "markdown",
   "metadata": {},
   "source": [
    "十进制计数法：0-9这样10个计数符号组成，并采取进位制法，高位在左，低位在右，从左往右书写的计数方法。  \n",
    "例子：\n",
    "2871 = 2*1000 + 8*100 + 7*10 + 1*1  \n",
    "= 2*10^3 + 8*10^2 + 7*10^1 + 1*10^0  \n",
    "\n",
    "10被称为10进制计数法的基数。  \n",
    "\n",
    "同样的，二进制计数法：0-1这样2个计数符号组成，并采取进位制法，高位在左，低位在右，从左往右书写的计数方法，二进制的基数是2，数位就是2^n的形式。  \n",
    "例子：   \n",
    "110101 = 1*2^5 + 1*2^4 + 0*2^3 + 1*2^2 + 0*2^1 + 1*2^0  \n",
    "= 32 + 16 + 0 + 4 + 0 + 1  \n",
    "= 53  \n"
   ]
  },
  {
   "cell_type": "markdown",
   "metadata": {},
   "source": [
    "### 二、计算机为什么要使用二进制？"
   ]
  },
  {
   "cell_type": "markdown",
   "metadata": {},
   "source": [
    "这与现代计算机系统的硬件有关，组成计算机系统的逻辑电路通常只有两个状态，既开关的连接与断开，而且0，1抗干扰能力强，可靠性高，另外，二进制也非常符合逻辑运算，逻辑当中的“真假”对应二进制中的“01”。"
   ]
  },
  {
   "cell_type": "markdown",
   "metadata": {},
   "source": [
    "### 三、计算机的位操作"
   ]
  },
  {
   "cell_type": "markdown",
   "metadata": {},
   "source": [
    "#### 3.1二进制的移位操作\n",
    "\n",
    "十进制数左移一位 = 原数*10\n",
    "二进制数左移一位 = 原数*2\n",
    "\n",
    "二进制数超过了系统位数，就是数字溢出。\n",
    "\n",
    "#### 3.2二进制中负数如何计算？\n",
    "\n",
    "https://www.cnblogs.com/starry-skys/p/11997091.html\n",
    "\n",
    "#### 3.3二进制的逻辑操作\n",
    "\n",
    "“或”：参与操作的位中只要有一个1，最终结果就是1  \n",
    "“与”：参与操作的位中必须全是1，最终结果才是1，否则为0  \n",
    "“异或”：参与操作的位相同，最终结果为0，否则为1  "
   ]
  },
  {
   "cell_type": "code",
   "execution_count": null,
   "metadata": {},
   "outputs": [],
   "source": []
  }
 ],
 "metadata": {
  "kernelspec": {
   "display_name": "Python 3",
   "language": "python",
   "name": "python3"
  },
  "language_info": {
   "codemirror_mode": {
    "name": "ipython",
    "version": 3
   },
   "file_extension": ".py",
   "mimetype": "text/x-python",
   "name": "python",
   "nbconvert_exporter": "python",
   "pygments_lexer": "ipython3",
   "version": "3.7.4"
  }
 },
 "nbformat": 4,
 "nbformat_minor": 2
}

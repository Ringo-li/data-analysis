{
 "cells": [
  {
   "cell_type": "code",
   "execution_count": 72,
   "metadata": {},
   "outputs": [
    {
     "name": "stdout",
     "output_type": "stream",
     "text": [
      "10的平方根是3.162277650088072\n"
     ]
    }
   ],
   "source": [
    "class Lesson3_2(object):\n",
    "\n",
    "# Description:计算大于1的正整数之平方根\n",
    "# param n:待求的数, deltaThreshold-误差的阈值, maxTry-二分查找的最大次数\n",
    "# return double:平方根的解\n",
    "\n",
    "    def __init__(self,n,deltaThreshold,maxTry):\n",
    "        self.n = n\n",
    "        self.deltaThreshold = deltaThreshold\n",
    "        self.maxTry = maxTry\n",
    "        \n",
    "    def getSqureRoot(self):\n",
    "        if self.n <= 1:\n",
    "            return -1.0\n",
    "        \n",
    "        min = 1\n",
    "        max = self.n\n",
    "        for i in range(self.maxTry):\n",
    "            middle = min + (max - min) / 2\n",
    "            square = middle * middle\n",
    "            delta = abs((square / self.n) - 1)\n",
    "            if delta <= self.deltaThreshold:\n",
    "                return middle\n",
    "            elif square > self.n:\n",
    "                max = middle\n",
    "            else:\n",
    "                min = middle\n",
    "        return -2.0\n",
    "    \n",
    "if __name__ == '__main__':\n",
    "    number = 10\n",
    "    squareNum = Lesson3_2(number, 0.00000001, 100)\n",
    "    squareRoot = squareNum.getSqureRoot()\n",
    "    if squareRoot == -1.0:\n",
    "        print(\"请输入大于1的整数\")\n",
    "    elif squareRoot == -2.0:\n",
    "        print(\"未能找到解\")\n",
    "    else:\n",
    "        print(\"{}的平方根是{}\".format( number, squareRoot))"
   ]
  },
  {
   "cell_type": "code",
   "execution_count": null,
   "metadata": {},
   "outputs": [],
   "source": []
  }
 ],
 "metadata": {
  "kernelspec": {
   "display_name": "Python 3",
   "language": "python",
   "name": "python3"
  },
  "language_info": {
   "codemirror_mode": {
    "name": "ipython",
    "version": 3
   },
   "file_extension": ".py",
   "mimetype": "text/x-python",
   "name": "python",
   "nbconvert_exporter": "python",
   "pygments_lexer": "ipython3",
   "version": "3.7.4"
  }
 },
 "nbformat": 4,
 "nbformat_minor": 2
}

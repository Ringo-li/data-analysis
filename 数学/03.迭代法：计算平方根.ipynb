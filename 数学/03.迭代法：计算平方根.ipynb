{
 "cells": [
  {
   "cell_type": "markdown",
   "metadata": {},
   "source": [
    "### 一、什么是迭代法"
   ]
  },
  {
   "cell_type": "markdown",
   "metadata": {},
   "source": [
    "迭代法：<b>简单来说，就是不断利用旧的变量值，递推计算新的变量值。</b>  \n",
    "迭代法的思想很容易通过计算机语言中的循环语句来实现。"
   ]
  },
  {
   "cell_type": "markdown",
   "metadata": {},
   "source": [
    "### 二、迭代法的基本步骤"
   ]
  },
  {
   "cell_type": "markdown",
   "metadata": {},
   "source": [
    "2.1确定用于迭代的变量。  \n",
    "2.2建立迭代变量之间的递推关系。  \n",
    "2.3控制迭代的过程。  "
   ]
  },
  {
   "cell_type": "markdown",
   "metadata": {},
   "source": [
    "### 三、迭代法有什么具体应用"
   ]
  },
  {
   "cell_type": "markdown",
   "metadata": {},
   "source": [
    "#### 3.1求数值的精确或者近似解：  \n",
    "二分法、牛顿迭代法。  \n",
    "#### 3.2在一定范围内查找目标值：  \n",
    "二分查找  \n",
    "#### 3.3机器学习算法中的迭代：  \n",
    "k-均值、马尔科夫链、梯度下降法等等，<b>很多时候机器学习的过程，就是根据已知数据和一定的假设，求一个局部最优解。</b>"
   ]
  },
  {
   "cell_type": "markdown",
   "metadata": {},
   "source": [
    "#### 如何算大于1的正整数之平方根"
   ]
  },
  {
   "cell_type": "code",
   "execution_count": 27,
   "metadata": {},
   "outputs": [
    {
     "name": "stdout",
     "output_type": "stream",
     "text": [
      "10的平方根是3.162277650088072\n"
     ]
    }
   ],
   "source": [
    "class Lesson3_2(object):\n",
    "    \"\"\"\n",
    "    Description: 计算大于1的正整数之平方根\n",
    "    \n",
    "    param: n-待求的数, deltaThreshold-误差的阈值, maxTry-二分查找的最大次数\n",
    "    return: 平方根的解\n",
    "    \"\"\"\n",
    "    \n",
    "    def __init__(self,n,deltaThreshold,maxTry):\n",
    "        self.n = n\n",
    "        self.deltaThreshold = deltaThreshold\n",
    "        self.maxTry = maxTry\n",
    "        \n",
    "    def getSqureRoot(self):\n",
    "        if self.n <= 1:\n",
    "            return -1.0\n",
    "        \n",
    "        min = 1\n",
    "        max = self.n\n",
    "        for i in range(self.maxTry):\n",
    "            middle = min + (max - min) / 2\n",
    "            square = middle * middle\n",
    "            delta = abs((square / self.n) - 1)\n",
    "            if delta <= self.deltaThreshold:\n",
    "                return middle\n",
    "            elif square > self.n:\n",
    "                max = middle\n",
    "            else:\n",
    "                min = middle\n",
    "        return -2.0\n",
    "    \n",
    "if __name__ == '__main__':\n",
    "    number = 10\n",
    "    squareNum = Lesson3_2(number, 0.00000001, 100)\n",
    "    squareRoot = squareNum.getSqureRoot()\n",
    "    if squareRoot == -1.0:\n",
    "        print(\"请输入大于1的整数\")\n",
    "    elif squareRoot == -2.0:\n",
    "        print(\"未能找到解\")\n",
    "    else:\n",
    "        print(\"{}的平方根是{}\".format( number, squareRoot))"
   ]
  },
  {
   "cell_type": "code",
   "execution_count": 17,
   "metadata": {},
   "outputs": [
    {
     "name": "stdout",
     "output_type": "stream",
     "text": [
      "\n",
      "    Description: 计算大于1的正整数之平方根\n",
      "    \n",
      "    param: n-待求的数, deltaThreshold-误差的阈值, maxTry-二分查找的最大次数\n",
      "    return: 平方根的解\n",
      "    \n"
     ]
    }
   ],
   "source": [
    "print(Lesson3_2.__doc__)"
   ]
  },
  {
   "cell_type": "code",
   "execution_count": 35,
   "metadata": {},
   "outputs": [
    {
     "name": "stdout",
     "output_type": "stream",
     "text": [
      "舍罕王给了这么多粒：9223372036854775807\n"
     ]
    }
   ],
   "source": [
    "class Lesson3_1:\n",
    "    \"\"\" \n",
    "    :Description:算算舍罕王给了多少粒麦子\n",
    "    \n",
    "    :param grid-放到第几格\n",
    "    :return long-麦粒的总数\n",
    "    \"\"\"\n",
    "    def getNumberOfWheat(self,grid):\n",
    "        sum = 0#麦粒总数\n",
    "        numberOfWheatInGrid = 1#第一个格子里麦粒的数量\n",
    "        sum += numberOfWheatInGrid\n",
    "        for i in range(1,grid):\n",
    "            numberOfWheatInGrid *= 2#当前格子里麦粒的数量是前一格的2倍\n",
    "            sum += numberOfWheatInGrid#累计麦粒总数\n",
    "        return sum\n",
    "\n",
    "if __name__ == \"__main__\":\n",
    "    num = Lesson3_1()\n",
    "    print(\"舍罕王给了这么多粒：{}\".format(num.getNumberOfWheat(63)))"
   ]
  },
  {
   "cell_type": "code",
   "execution_count": null,
   "metadata": {},
   "outputs": [],
   "source": []
  }
 ],
 "metadata": {
  "kernelspec": {
   "display_name": "Python 3",
   "language": "python",
   "name": "python3"
  },
  "language_info": {
   "codemirror_mode": {
    "name": "ipython",
    "version": 3
   },
   "file_extension": ".py",
   "mimetype": "text/x-python",
   "name": "python",
   "nbconvert_exporter": "python",
   "pygments_lexer": "ipython3",
   "version": "3.7.4"
  }
 },
 "nbformat": 4,
 "nbformat_minor": 2
}

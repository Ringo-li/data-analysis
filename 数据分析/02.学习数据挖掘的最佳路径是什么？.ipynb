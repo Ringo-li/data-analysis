{
 "cells": [
  {
   "cell_type": "markdown",
   "metadata": {},
   "source": [
    "#### 数据挖掘的学习，从知识清单开始\n",
    "一、数据挖掘的基本流程  \n",
    "二、数据挖掘的十大算法  \n",
    "三、数据挖掘的数学原理  "
   ]
  },
  {
   "cell_type": "markdown",
   "metadata": {},
   "source": [
    "### 一、数据挖掘的基本流程"
   ]
  },
  {
   "cell_type": "markdown",
   "metadata": {},
   "source": [
    "1.<b>商业理解</b>：挖掘不是我们的目的，我们的目的是更好的帮助业务，以此为基础，定义数据挖掘的目标。  \n",
    "2.<b>数据理解</b>：尝试收集部分数据，然后对数据进行探索，包括数据描述、数据质量检验等。   \n",
    "3.<b>数据准备</b>：开始收集数据，并对数据进行清洗、数据集成等操作，完成挖掘前的准备。  \n",
    "4.<b>模型建立</b>：选择和应用各种数据挖掘模型，并进行优化，以便得到更好的分类结果。  \n",
    "5.<b>模型评估</b>：对模型进行评估，并检查构建模型的每个步骤，确认模型是否实现来预定的商业目标。  \n",
    "6.<b>上线发布</b>：模型的作用是从数据中找到“知识”，这个知识需要转化为用户可以使用的方式。  "
   ]
  },
  {
   "cell_type": "markdown",
   "metadata": {},
   "source": [
    "### 二、数据挖掘的十大算法"
   ]
  },
  {
   "cell_type": "markdown",
   "metadata": {},
   "source": [
    "1.<b>分类算法</b>：C4.5，朴素贝叶斯（Naive Bayes），SVM，KNN，Adaboost，CART  \n",
    "2.<b>聚类算法</b>：K-Means，EM  \n",
    "3.<b>关联分析</b>：Apriori  \n",
    "4.<b>连接分析</b>：PageRank  "
   ]
  },
  {
   "cell_type": "markdown",
   "metadata": {},
   "source": [
    "### 三、数据挖掘的数学原理"
   ]
  },
  {
   "cell_type": "code",
   "execution_count": null,
   "metadata": {},
   "outputs": [],
   "source": [
    "1.概率论与数理统计  \n",
    "2.线性代数  \n",
    "3.图论  \n",
    "4.最优化方法  \n",
    " "
   ]
  }
 ],
 "metadata": {
  "kernelspec": {
   "display_name": "Python 3",
   "language": "python",
   "name": "python3"
  },
  "language_info": {
   "codemirror_mode": {
    "name": "ipython",
    "version": 3
   },
   "file_extension": ".py",
   "mimetype": "text/x-python",
   "name": "python",
   "nbconvert_exporter": "python",
   "pygments_lexer": "ipython3",
   "version": "3.7.4"
  }
 },
 "nbformat": 4,
 "nbformat_minor": 2
}

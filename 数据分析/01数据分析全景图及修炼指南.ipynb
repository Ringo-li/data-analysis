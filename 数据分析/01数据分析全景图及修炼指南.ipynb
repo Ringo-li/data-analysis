{
 "cells": [
  {
   "cell_type": "markdown",
   "metadata": {},
   "source": [
    "### 一、当我们谈论数据分析时，都在讲什么？"
   ]
  },
  {
   "cell_type": "markdown",
   "metadata": {},
   "source": [
    "#### 数据分析分为三个重要组成部分：\n",
    "1.<b>数据采集</b>:原材料，任何分析都要有数据源。数据源，爬虫，工具  \n",
    "2.<b>数据挖掘</b>:整个商业价值所在，之所以要进行数据分析，就要找到其中到规律，来指导我们的业务。数据挖掘的核心是挖掘数据的商业价值，也就是我们所谈的商业智能BI。基本流程，十大算法，数学基础  \n",
    "3.<b>数据可视化</b>:直观的了解数据分析的结果，工具，python可视化"
   ]
  },
  {
   "cell_type": "markdown",
   "metadata": {},
   "source": [
    "### 二、修炼指南"
   ]
  },
  {
   "cell_type": "markdown",
   "metadata": {},
   "source": [
    "#### 1.核心\n",
    "培养数据思维，掌握挖掘工具，熟练实践并积累经验。\n",
    "#### 2.MAS方法\n",
    "- Multi-Dimension:想要掌握一个事物，就要从多个角度去认识他。  \n",
    "    + 基础概念：\n",
    "    \n",
    "    + 工具\n",
    "    + 题库\n",
    "- Ask：不懂就问，程序员更要突破这一点。  \n",
    "- Sharing：最好的学习就是分享，用自己的语言讲出来，是对知识进一步梳理。  \n",
    "\n",
    "#### 3.两点原则\n",
    "- 不重复造轮子\n",
    "    一个模型是否有相关类库可以使用，这是程序员入行第一条准则。\n",
    "- 工具决定效率\n",
    "    选择使用者最多的工具，bug少、文档全、案例多  \n",
    "    \n",
    "#### 4.积累知识资产：熟练度"
   ]
  },
  {
   "cell_type": "code",
   "execution_count": null,
   "metadata": {},
   "outputs": [],
   "source": []
  }
 ],
 "metadata": {
  "kernelspec": {
   "display_name": "Python 3",
   "language": "python",
   "name": "python3"
  },
  "language_info": {
   "codemirror_mode": {
    "name": "ipython",
    "version": 3
   },
   "file_extension": ".py",
   "mimetype": "text/x-python",
   "name": "python",
   "nbconvert_exporter": "python",
   "pygments_lexer": "ipython3",
   "version": "3.7.4"
  }
 },
 "nbformat": 4,
 "nbformat_minor": 2
}
